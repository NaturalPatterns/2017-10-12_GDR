{
 "cells": [
  {
   "cell_type": "markdown",
   "metadata": {},
   "source": [
    "# Poster GDR Vision\n",
    "\n"
   ]
  },
  {
   "cell_type": "code",
   "execution_count": 1,
   "metadata": {
    "collapsed": true
   },
   "outputs": [],
   "source": [
    "from __future__ import division, print_function\n",
    "%matplotlib inline\n",
    "%config InlineBackend.figure_format='retina'\n",
    "#%config InlineBackend.figure_format = 'svg'\n",
    "import numpy as np\n",
    "np.set_printoptions(precision=6, suppress=True)\n",
    "import os\n",
    "import imageio\n",
    "#\n",
    "import matplotlib\n",
    "import matplotlib.pyplot as plt\n",
    "# CONSTANTS\n",
    "phi = np.sqrt(2) # A0  (np.sqrt(5)+1)/2\n",
    "inch_per_cm = 0.3937008\n",
    "bg_color = 'white'\n",
    "# \n",
    "if True: # DEBUG\n",
    "    A_N = 4 # use 0 for A0, 4 for A4\n",
    "    DOWNSCALE = 3\n",
    "else:\n",
    "    A_N = 0 # use 0 for A0, 4 for A4\n",
    "    DOWNSCALE = 1\n",
    "#\n",
    "print('paper size = A' + str(A_N))\n",
    "fig_width = np.sqrt(np.sqrt(2)) * 100 * 2**(-A_N) / inch_per_cm\n",
    "figsize = (fig_width, fig_width*phi)\n",
    "%load_ext autoreload\n",
    "%autoreload 2"
   ]
  },
  {
   "cell_type": "markdown",
   "metadata": {},
   "source": [
    "## Title banner\n",
    "\n",
    "Abstract original::\n",
    "\n",
    "Dans l'installation Tropique, des faisceaux de lames lumineuses sont arrangés dans l'espace assombri \n",
    "de l'installation. Les spectateurs les observent grâce à leur interaction avec une brume invisible qui est \n",
    "diffusée dans l'espace. L'ensemble des faisceaux évolue comme autant de lames lumineuses à partir de 6 \n",
    "video-projecteurs placés dans l'espace de l'installation, suivant une dynamique autonome. En même temps, \n",
    "la position des spectateurs est captée et permet d'alterner entre une vision de ces sculptures d'un point \n",
    "de vue introceptif à un point de vue exteroceptif. Dans Elasticité dynamique, 25 parallélépipède de miroirs \n",
    "(3m de haut) sont arrangés verticalement sur une ligne horizontale. Ces lames sont rotatives et  leurs mouvements\n",
    "est synchronisé. Suivant la dyamique qui est imposé à ces lames, la perception de l’espace environnent fluctue suivant, \n",
    "par exemple une vague de propagation, des effets de lentilles de Fresnel…. Conduisant à recomposer l’espace de\n",
    "la concentration à l’expansion, ou encore à générer un surface semblant transparente ou inverser la visons\n",
    "de ce qui est située devant et derrière l’observateur. Enfin, dans Trames, nous explorons l'interaction \n",
    "de séries périodiques de points placées sur des surfaces transparentes. A partir de premières expérimentations \n",
    "utilisant une technique novatrice de sérigraphie, ces trames de points sont placées afin de faire émerger \n",
    "des structures selon le point de vue du spectateur. De manière générale, nous montrerons ici les différentes\n",
    "méthodes utilisées et aussi les résultats apportés par une telle collaboration.\n",
    "\n"
   ]
  },
  {
   "cell_type": "raw",
   "metadata": {},
   "source": [
    "help(ax.texts)"
   ]
  },
  {
   "cell_type": "code",
   "execution_count": 2,
   "metadata": {
    "collapsed": true
   },
   "outputs": [],
   "source": [
    "xs, ys = [.05, .15, .1, .1, .1, .1] , [.9, .8, .72, .68, .1, .05]\n",
    "fontsizes = [42, 32, 20, 20, 15, 20]\n",
    "texts = [\"Expériences autour de la perception de la forme en art et science\", #Exploration des composantes de la perception lors d'un expérience mêlant art et science\",\n",
    "         \"Laurent Perrinet$^1$ et Etienne Rey$^2$\", \n",
    "         \"1 - Institut de Neurosciences de la Timone (INT) – Aix Marseille Université CNRS, UMR7289 – 27, Bd Jean Moulin - 13385 Marseille, https://invibe.net\",\n",
    "         \"2 - Atelier des Ondes Paralleles, La Friche la Belle de Mai, 41, rue Jobin, 13003 Marseille, etiennerey@ondesparalleles.org, http://ondesparalleles.org/\",\n",
    "         \"\"\"\\\n",
    "La vision utilise un faisceau d'informations de différentes qualités pour atteindre une\n",
    "perception unifiée du monde environnant. Nous avons utilisé lors de plusieurs projets \n",
    "art-science (voir https://github.com/NaturalPatterns) des installations permettant \n",
    "de manipuler explicitement des composantes de ce flux d'information et de révéler des  \n",
    "ambiguités dans notre perception. \n",
    "\n",
    "Dans l'installation «Tropique», des faisceaux de lames lumineuses sont arrangés dans l'espace assombri \n",
    "de l'installation. Les spectateurs les observent grâce à leur interaction avec une brume invisible qui est \n",
    "diffusée dans l'espace. Dans «Trame Élasticité», 25 parallélépipède de miroirs \n",
    "(3m de haut) sont arrangés verticalement sur une ligne horizontale. Ces lames sont rotatives et leurs mouvements\n",
    "est synchronisé. Suivant la dyamique qui est imposé à ces lames, la perception de l’espace environnent fluctue \n",
    "conduisant à recomposer l’espace de\n",
    "la concentration à l’expansion, ou encore à générer un surface semblant transparente ou inverser la visons\n",
    "de ce qui est située devant et derrière l’observateur. Enfin, dans «Trame instabilité», nous explorons l'interaction \n",
    "de séries périodiques de points placées sur des surfaces transparentes. À partir de premières expérimentations \n",
    "utilisant une technique novatrice de sérigraphie, ces trames de points sont placées afin de faire émerger \n",
    "des structures selon le point de vue du spectateur. De manière générale, nous montrerons ici les différentes\n",
    "méthodes utilisées, comme l'utilisation des limites perceptives, et aussi les résultats apportés par une telle collaboration.\n",
    "\"\"\",\n",
    "\"Mots-Clés: art cinétique ; science ; vision ; perception ; modèle interne\"\n",
    "        ]\n",
    "image_logo = 'troislogos.png'\n",
    "\n",
    "def wrap(s, width=70, verbose=False):\n",
    "    \"\"\"\n",
    "    This function takes any wrapped or unwrapped text and then wraps it to a given width.\n",
    "    \n",
    "    We are careful to keep a carriage return (as a '\\n\\n') to separate paragraphs.\n",
    "    \n",
    "    \"\"\"\n",
    "    import textwrap\n",
    "    s_output = \"\"\n",
    "    for p in s.split('\\n\\n'):\n",
    "        s_unwrap = \"\".join(p).replace(' \\n', ' ').replace('\\n', ' ').replace('  ', ' ')\n",
    "        if verbose: print('Unwrapping:', s_unwrap)\n",
    "        s_clean = textwrap.dedent(s_unwrap).replace('  ', ' ').replace('  ', ' ')\n",
    "        if verbose: print('Cleaning:', s_clean)\n",
    "        if width>0:\n",
    "            s_wrap = textwrap.fill(s_clean, width=width)\n",
    "        else:\n",
    "            s_wrap = s_clean\n",
    "        if verbose: print('Wrapping:', s_wrap)\n",
    "        s_output += s_wrap + '\\n'\n",
    "    return s_output\n",
    "texts[-2] = wrap(texts[-2], width=90, verbose=True)\n",
    "print(texts[-2])"
   ]
  },
  {
   "cell_type": "code",
   "execution_count": 3,
   "metadata": {
    "collapsed": true
   },
   "outputs": [],
   "source": [
    "from mpl_toolkits.axes_grid1.inset_locator import inset_axes, zoomed_inset_axes\n",
    "#help(inset_axes)\n",
    "\n",
    "def color_axis(ax, color=bg_color):\n",
    "    # Start coloring\n",
    "\n",
    "    ax.set_xticks(())\n",
    "    ax.set_yticks(())\n",
    "    for pos in ['top', 'bottom', 'right', 'left']: ax.spines[pos].set_edgecolor(color)\n"
   ]
  },
  {
   "cell_type": "code",
   "execution_count": 4,
   "metadata": {
    "collapsed": true
   },
   "outputs": [],
   "source": [
    "subplotpars = matplotlib.figure.SubplotParams(left=0., right=1., bottom=0., top=1., wspace=0.0, hspace=0.0,)\n",
    "fig, axs = plt.subplots(1, 1, figsize=(figsize[0], figsize[1]/4), subplotpars=subplotpars)\n",
    "ax = axs#[0]\n",
    "\n",
    "for x, y, text, fontsize in zip(xs, ys, texts, fontsizes):\n",
    "    ax.text (s=text, x=x, y=y, usetex=False, wrap=True, \n",
    "             transform=ax.transAxes, fontsize=fontsize * 10*2**(-A_N)) # bbox=dict(facecolor='red', alpha=0.5))\n",
    "\n",
    "ax.set_xticks(())\n",
    "ax.set_yticks(())\n",
    "\n",
    "axins = inset_axes(ax,\n",
    "                   #bbox_to_anchor = [10, 10],\n",
    "                   width=\"50%\",  # width = 30% of parent_bbox\n",
    "                   height= 4* 2**(4-A_N),  # width = 30% of parent_bbox\n",
    "                   loc=4, \n",
    "                  # axes_kwargs=dict(fc='red', edgecolor='b')\n",
    "                  )\n",
    "\n",
    "print(axins)\n",
    "#axins.text (s=text, x=x, y=y, usetex=False, wrap=True, \n",
    "#             transform=ax.transAxes, fontsize=fontsize * 10*2**(-A_N)) # bbox=dict(facecolor='red', alpha=0.5))\n",
    "axins.imshow(imageio.imread(image_logo)[::DOWNSCALE, ::DOWNSCALE, ...])\n",
    "color_axis(axins)"
   ]
  },
  {
   "cell_type": "markdown",
   "metadata": {},
   "source": [
    "## définition des variables"
   ]
  },
  {
   "cell_type": "code",
   "execution_count": 5,
   "metadata": {
    "collapsed": true
   },
   "outputs": [],
   "source": [
    "image_tropique = 'tropique/EtienneRey-Tropique-2011-C.JPG'\n",
    "image_elasticité =  'Trame-Elasticite/E-REY-TRAME_Elasticité-Vasarely.JPG'\n",
    "image_trame = 'Trame-Elasticite/E-REY-TRAME_Elasticité-Vasarely.JPG'\n",
    "image_trame = '../pyTRAMES/files/2017-10-03_instabilité_N_pix=9449-R_dis=1.50-theta=29.00 deg-freq_A=0.07-R_dis_A=1.50-freq_B=0.03-R_dis_B=1.51-seuil_A=0.70-seuil_B=0.75-gain=10.00_render.png'\n",
    "image_trame = '../pyTRAMES/files/2017-10-03_instabilité_N_pix=9449-R_dis=1.50-theta=29.00 deg-freq_A=0.07-R_dis_A=1.50-freq_B=0.03-R_dis_B=1.51-seuil_A=0.70-seuil_B=0.75-gain=10.00_render.png'\n",
    "\n",
    "\n",
    "tag = '2017-10-12_PerrinetRey2017poster'\n",
    "\n",
    "output = tag + '.pdf'"
   ]
  },
  {
   "cell_type": "code",
   "execution_count": 6,
   "metadata": {
    "collapsed": true
   },
   "outputs": [],
   "source": [
    "import imageio\n",
    "for filename in [image_tropique, image_elasticité, image_trame]:\n",
    "    image = imageio.imread(filename)\n",
    "    print ('The shape of', filename, ' is', image.shape)"
   ]
  },
  {
   "cell_type": "markdown",
   "metadata": {},
   "source": [
    "The aspect ratio of one band is:"
   ]
  },
  {
   "cell_type": "code",
   "execution_count": 7,
   "metadata": {
    "collapsed": true
   },
   "outputs": [],
   "source": [
    "aspect_ratio = 1 / (np.sqrt(2)/4)\n",
    "print ('aspect ratio (width/height) =', aspect_ratio)"
   ]
  },
  {
   "cell_type": "code",
   "execution_count": 8,
   "metadata": {
    "collapsed": true
   },
   "outputs": [],
   "source": [
    "data_tropique = dict(title='Tropique (2013)', fontsize=42*2**(4-A_N), description=\"\"\"\n",
    "Dans l'installation Tropique, des faisceaux de lames lumineuses \n",
    "sont arrangés dans l'espace assombri de l'installation. Les spectateurs \n",
    "les observent grâce à leur interaction avec une brume invisible qui est \n",
    "diffusée dans l'espace. L'ensemble des faisceaux évolue comme autant de \n",
    "lames lumineuses à partir de 6 video-projecteurs placés dans l'espace \n",
    "de l'installation, suivant une dynamique autonome. En même temps, la \n",
    "position des spectateurs est captée et permet d'alterner entre une vision \n",
    "de ces sculptures d'un point de vue introceptif à un point de vue exteroceptif.\n",
    "Installation immersive, Tropique un espace vide de matière. le visiteur plonge \n",
    "au cœur d’un espace embrumé, sculpté par la lumière et le son.\n",
    "Ce monde doté d’intelligence perceptive réagit à la présence des visiteurs, \n",
    "construisant un espace dynamique, dans lequel les gestes et les comportements \n",
    "perturbent et enrichissent un élément préexistant.\n",
    "\n",
    "Le mot Tropique désigne une ligne terrestre imaginaire où le soleil atteint \n",
    "le zénith à un moment précis, au solstice d’hiver et d’été.\n",
    "L’installation Tropique est l’expression de l’ici et maintenant, du hic et \n",
    "du nunc à une position, une date et une heure précises où s’explore un monde en relation.\n",
    "L’installation Tropique propose à celui qui fait l’expérience à la fois \n",
    "plastique et scientifique de l’œuvre de rendre perceptible des structures de \n",
    "l’espace et de saisir la manière dont travaille notre système perceptif \n",
    "et, ce faisant, notre manière d’appréhender le monde\n",
    "\"\"\", \n",
    "                     color = 'w',\n",
    "                     alpha = 0.01, # transparency of a bbox\n",
    "                     width = 70,\n",
    "                     cartel=\"\"\"\n",
    "DISTRIBUTION: http://ondesparalleles.org/projets/tropique-7/\n",
    "RÉALISATION: \n",
    "- Etienne Rey, artiste plasticien\n",
    "- Laurent Perrinet, Chercheur en Neurosciences à l’INT / CNRS\n",
    "- Wilfried Wendling, Compositeur\n",
    "- Julien Marro Dauzat, Ingénieur, Biogène\n",
    "CO-PRODUCTION\n",
    "- Marseille-Provence 2013\n",
    "- IMéRA, Institut Méditerranéen de Recherches Avancées\n",
    "- GMEM – Centre National de Création Musicale\n",
    "- Ososphère / Quatre 4.0\n",
    "- Centre des Arts d’Enghien-les-Bains\n",
    "- CNRS / INT, Institut de Neurosciences de la Timone\n",
    "PRODUCTION DÉLÉGUÉE\n",
    "- Seconde Nature\n",
    "- SOUTIENT\n",
    "- Région PACA\n",
    "- CNC Dicréam\n",
    "PRIX\n",
    "- Lauréat des Mécènes du Sud\n",
    "- Lauréat du RAN, Réseau Arts Numériques\n",
    "EXPOSITIONS:\n",
    "- Résidence à l’INT / CNRS\n",
    "- Avant Première – Festival Ososphère / Strasbourg\n",
    "- Fondation Vasarely Marseille Capitale de la culture, Aix-en-Provence\n",
    "\"\"\")\n",
    "\n",
    "data_elasticité = dict(title='Trame Élasticité (2016)', fontsize=42*2**(4-A_N), description=\"\"\"\n",
    "Les oeuvres d’Etienne Rey créent des expériences de l’espace où \n",
    "lumière, vision et déplacement modulent notre perception. Ce travail \n",
    "marque une continuité des questions initiées par Victor Vasarely, en \n",
    "particulier sur la relation directe à une dimension perceptuelle.\n",
    "\n",
    "Dans le cadre de «MultipliCITÉ», le plasticien Etienne Rey, \n",
    "lauréat 2016 du Prix de la Fondation Vasarely pour les arts numériques \n",
    "(jury : Seconde Nature, Mécènes du Sud, EDIS, Fondation Vasarely, Musée \n",
    "Vouland, Galerie Denise René), a été invité à présenter une série de \n",
    "créations sur les trois lieux de l’hommage triptyque.\n",
    "\n",
    "À la Fondation Vasarely à Aix-en-Provence, Etienne Rey a choisi d’installer \n",
    "dans la salle des «Intégrations architectoniques» un ballet visuel hypnotique. \n",
    "Composé d’une succession de lames de miroirs, verticales et rotatives, \n",
    "l’installation «Trame Élasticité» se joue des reflets et de la démultiplication de \n",
    "l’espace, offrant au spectateur une multiplicité de points de vue dans \n",
    "lesquels il peut se perdre à loisir. Par un effet de «porosité» recherché \n",
    "par l’artiste, le dispositif dialogue intensément avec les Intégrations.\n",
    "Devant l’œuvre en constante métamorphose, l’alphabet plastique de Vasarely \n",
    "se recompose ainsi à l’infini comme un jeu de construction renouvelable. \n",
    "Dans cette œuvre, Etienne Rey explore en profondeur les possibilités offertes \n",
    "par le mouvement, la lumière, et surtout l’interaction entre l’œuvre, le \n",
    "public et l’espace, ouvrant sur de nouveaux rapports sensibles et sensoriels au monde.\n",
    "\"\"\", \n",
    "                     color='w',\n",
    "                     alpha=0.01, # transparency of a bbox\n",
    "                     width = 73,\n",
    "                     cartel=\"\"\"\n",
    "RÉALISATION: \n",
    "- Etienne Rey - artiste plasticien\n",
    "- Laurent Perrinet - chercheur en neurosciences à l'INT / CNRS-AMU\n",
    "- Atelier Ni - accompagnement conception\n",
    "- Gauthier Le Rouzic - électronique\n",
    "PRODUCTION DÉLÉGUÉE:\n",
    "- Seconde Nature\n",
    "SOUTIENS:\n",
    "- DRAC PACA - aide individuelle à la création\n",
    "- RÉGION PACA - CAC art visuel\n",
    "CO-PRODUCTION:\n",
    "- ARCADI\n",
    "- La Muse en Circuit, Centre National de Création Musicale\n",
    "- CNRS-AMU / INT, Institut de Neurosciences de la Timone\n",
    "EXPOSITIONS:\n",
    "- Avant-Première: NEMO (Arts Numeriques), 104, Paris\n",
    "- MultipliCITÉ, Fondation Vasarely, Aix-en-Provence\n",
    "\"\"\")\n",
    "\n",
    "\n",
    "data_instabilité = dict(title='Trame Instabilité', fontsize=42*2**(4-A_N), description=\"\"\"\n",
    "«Trame instabilité» est un travail en cours de recherche. Le projet est basé \n",
    "sur des principes d’occultations partielles en couches associées à des trames \n",
    "qui font émerger une dimension immatérielle. L’expérience de perception de ces \n",
    "motifs produit un sentiment de basculement de la perception dans le sens où le \n",
    "motifs réel passe au second plan pour laisser place à l’émergence d’une figure \n",
    "du vide, c’est dans les blancs immatériel que des formes apparaissent et vacillent \n",
    "occupant tout notre champ visuel. Ces apparitions virtuelles, purs phénomènes \n",
    "optiques n’existent pas dans notre monde «physique», réel. \n",
    "\n",
    "Ce qui est en jeu \n",
    "ici c’est l’émergence de l’apparition de motifs virtuels résultat de la relation \n",
    "entre une réalité physique, la grandeur et l’ordonnancement de trames et notre \n",
    "physiologie qui conduit à cette état de perception. Lorsqu’on est fasse à ces \n",
    "motifs ce qui saute au yeux plus que le motif réel c’est sa résultante, instable\n",
    "et éphémère qui fait apparaitre une richesse de figures géométriques qui se \n",
    "transforment et évoluent en fonction du temps d’observation et du point de vue. \n",
    "Sur ce principe de dispositif optique, le travail de chacun des motifs, lié à \n",
    "un séquençage de trames conduit à faire apparaitre une composition et des émergences \n",
    "de formes spécifiques. L’expérience de perception de chacun des motifs explore \n",
    "les notions d’instabilité, de flux, d’émergences … dont l’expérience donne à \n",
    "entrevoir des formes que l’on retrouve dans la nature ou les phénomènes naturels:\n",
    "le dessin du pelage d’un zèbre, une accumulation de bulles de savons, ou \n",
    "plus généralement dans les compositions chimiques issue de la théorie de la\n",
    "morphogénèse de Turing.\n",
    "\"\"\", \n",
    "                     color='k',\n",
    "                     alpha=0.9, # transparency of a bbox\n",
    "                     width = 70,\n",
    "                     cartel=\"\"\"\n",
    "RÉALISATION: \n",
    "- Etienne Rey - artiste plasticien\n",
    "- Laurent Perrinet - chercheur en neurosciences à l'INT / CNRS-AMU\n",
    "\n",
    "CO-PRODUCTION\n",
    "- Etienne Rey / Atelier Ondes Parallèles\n",
    "- CNRS-AMU / INT, Institut de Neurosciences de la Timone\n",
    "\"\"\")\n",
    "\n",
    "\n",
    "datas = [None, data_tropique, data_elasticité, data_instabilité]\n",
    "for data in datas[1:]:\n",
    "    print(data['width']*u'👁')\n",
    "    print (wrap(data['description'], width=data['width']))"
   ]
  },
  {
   "cell_type": "code",
   "execution_count": 9,
   "metadata": {
    "collapsed": true
   },
   "outputs": [],
   "source": [
    "left_tops = [[400, 500], [800, 700], [500, 500]]\n",
    "heights = [1300, 1500, 800]\n",
    "\n",
    "crops = [None]\n",
    "for lt, h in zip(left_tops, heights):\n",
    "    crops.append([lt[0], int(lt[0]+h), lt[1], int(lt[1]+h*aspect_ratio)])\n",
    "    \n",
    "subplotpars = matplotlib.figure.SubplotParams(left=0., right=1., bottom=0., top=1., wspace=0.0, hspace=0.0,)\n",
    "fig, axs = plt.subplots(4, 1, figsize=figsize, subplotpars=subplotpars)\n",
    "\n",
    "# banner\n",
    "ax = axs[0]\n",
    "\n",
    "for x, y, text, fontsize in zip(xs, ys, texts, fontsizes):\n",
    "    ax.text (s=text, x=x, y=y, usetex=False, wrap=True, \n",
    "             transform=ax.transAxes, fontsize=fontsize * 10*2**(-A_N)) # bbox=dict(facecolor='red', alpha=0.5))\n",
    "\n",
    "color_axis(ax)\n",
    "\n",
    "from mpl_toolkits.axes_grid1.inset_locator import inset_axes, zoomed_inset_axes\n",
    "axins = inset_axes(ax,\n",
    "                   #bbox_to_anchor = [10, 10],\n",
    "                   width=\"50%\",  # width = 30% of parent_bbox\n",
    "                   height= 4* 2**(4-A_N),  # width = 30% of parent_bbox\n",
    "                   loc=4\n",
    "                  )\n",
    "\n",
    "axins.imshow(imageio.imread(image_logo))\n",
    "color_axis(axins)\n",
    "# images\n",
    "for filename, ax, crop, data in zip([None, image_tropique, image_elasticité, image_trame], axs, crops, datas):\n",
    "    if not filename is None:\n",
    "        image = imageio.imread(filename)\n",
    "        print ('The shape of', filename, ' is', image.shape)\n",
    "        print ('We crop at', crop)\n",
    "        ax.imshow(image[crop[0]:crop[1], crop[2]:crop[3]][::DOWNSCALE, ::DOWNSCALE, ...])\n",
    "        opts = dict(usetex=False, wrap=True, transform=ax.transAxes, bbox=dict(facecolor='white', alpha=data['alpha'], edgecolor='white'), color=data['color'])\n",
    "        ax.text (s=data['title'], x=.015, y=.9, fontsize=data['fontsize'], **opts)\n",
    "        ax.text (s=wrap(data['description'], width=data['width']), x=.015, y=.05, fontsize=data['fontsize']/6, **opts)\n",
    "        #ax.text (s=wrap(data['cartel'], width=data['width']), x=.8, y=.05, fontsize=data['fontsize']/6, **opts)\n",
    "        ax.text (s=data['cartel'], x=.8, y=.05, fontsize=data['fontsize']/6, **opts)\n",
    "\n",
    "    color_axis(ax)"
   ]
  },
  {
   "cell_type": "code",
   "execution_count": 10,
   "metadata": {
    "collapsed": true
   },
   "outputs": [],
   "source": [
    "fig.savefig(output, metadata=dict(Title=texts[0], Author=texts[1], Subject='GDR vision, Lille 12 octobre 2017', Keywords=texts[-1], CreationDate='2017-10-12') )"
   ]
  },
  {
   "cell_type": "markdown",
   "metadata": {},
   "source": [
    "## some book keeping for the notebook"
   ]
  },
  {
   "cell_type": "code",
   "execution_count": 11,
   "metadata": {
    "collapsed": true
   },
   "outputs": [],
   "source": [
    "%load_ext watermark\n",
    "%watermark"
   ]
  },
  {
   "cell_type": "code",
   "execution_count": 12,
   "metadata": {
    "collapsed": true
   },
   "outputs": [],
   "source": [
    "%load_ext version_information\n",
    "%version_information numpy, matplotlib, imageio"
   ]
  }
 ],
 "metadata": {
  "kernel_info": {
   "name": "python3"
  },
  "kernelspec": {
   "display_name": "Python 3",
   "language": "python",
   "name": "python3"
  },
  "language_info": {
   "codemirror_mode": {
    "name": "ipython",
    "version": 3
   },
   "file_extension": ".py",
   "mimetype": "text/x-python",
   "name": "python",
   "nbconvert_exporter": "python",
   "pygments_lexer": "ipython3",
   "version": "3.6.3"
  },
  "nteract": {
   "version": "0.3.4"
  }
 },
 "nbformat": 4,
 "nbformat_minor": 2
}
